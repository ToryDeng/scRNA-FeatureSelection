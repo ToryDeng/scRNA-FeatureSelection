{
 "cells": [
  {
   "cell_type": "code",
   "execution_count": 1,
   "metadata": {
    "ExecuteTime": {
     "end_time": "2021-05-23T10:09:03.442022Z",
     "start_time": "2021-05-23T10:06:25.870704Z"
    }
   },
   "outputs": [
    {
     "name": "stderr",
     "output_type": "stream",
     "text": [
      "Observation names are not unique. To make them unique, call `.obs_names_make_unique`.\n",
      "Variable names are not unique. To make them unique, call `.var_names_make_unique`.\n"
     ]
    },
    {
     "data": {
      "text/plain": [
       "(287,)"
      ]
     },
     "execution_count": 1,
     "metadata": {},
     "output_type": "execute_result"
    }
   ],
   "source": [
    "import anndata2ri\n",
    "import rpy2.robjects as robjects\n",
    "from rpy2.robjects.packages import importr\n",
    "from utils.utils import load_data\n",
    "\n",
    "adata = load_data('baron+segerstolpe')\n",
    "\n",
    "anndata2ri.activate()\n",
    "importr('Seurat')\n",
    "sce = anndata2ri.py2rpy(adata.raw.to_adata())\n",
    "robjects.globalenv['sce'] = sce\n",
    "robjects.r(\"\"\"\n",
    "as(sce, 'SingleCellExperiment')\n",
    "saveRDS(sce, file = 'test_rpy2.rds')\n",
    "\n",
    "batches_data <- as.Seurat(sce, counts='X', data=NULL)\n",
    "batch_list <- SplitObject(batches_data, split.by = 'batch')\n",
    "\n",
    "for(i in 1:length(batch_list)){\n",
    "  batch_list[[i]] <- NormalizeData(object = batch_list[[i]], verbose = FALSE)\n",
    "}\n",
    "\n",
    "cell_anchors <- FindIntegrationAnchors(object.list = batch_list, anchor.features = rownames(batches_data))\n",
    "batches <- IntegrateData(anchorset = cell_anchors)\n",
    "\"\"\")\n",
    "converted = robjects.r('to_converted <- as.SingleCellExperiment(batches)')\n",
    "print(adata)\n",
    "print(converted)\n",
    "anndata2ri.deactivate()"
   ]
  },
  {
   "cell_type": "code",
   "execution_count": null,
   "metadata": {},
   "outputs": [],
   "source": []
  }
 ],
 "metadata": {
  "kernelspec": {
   "display_name": "Python 3",
   "language": "python",
   "name": "python3"
  },
  "language_info": {
   "codemirror_mode": {
    "name": "ipython",
    "version": 3
   },
   "file_extension": ".py",
   "mimetype": "text/x-python",
   "name": "python",
   "nbconvert_exporter": "python",
   "pygments_lexer": "ipython3",
   "version": "3.7.9"
  },
  "latex_envs": {
   "LaTeX_envs_menu_present": true,
   "autoclose": false,
   "autocomplete": true,
   "bibliofile": "biblio.bib",
   "cite_by": "apalike",
   "current_citInitial": 1,
   "eqLabelWithNumbers": true,
   "eqNumInitial": 1,
   "hotkeys": {
    "equation": "Ctrl-E",
    "itemize": "Ctrl-I"
   },
   "labels_anchors": false,
   "latex_user_defs": false,
   "report_style_numbering": false,
   "user_envs_cfg": false
  }
 },
 "nbformat": 4,
 "nbformat_minor": 4
}