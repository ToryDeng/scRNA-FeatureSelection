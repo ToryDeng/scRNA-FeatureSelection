{
 "cells": [
  {
   "cell_type": "markdown",
   "metadata": {
    "tags": []
   },
   "source": [
    "# Testing new feature selection methods"
   ]
  },
  {
   "cell_type": "markdown",
   "metadata": {},
   "source": [
    "## Import section"
   ]
  },
  {
   "cell_type": "code",
   "execution_count": 1,
   "metadata": {},
   "outputs": [
    {
     "name": "stderr",
     "output_type": "stream",
     "text": [
      "Global seed set to 0\n",
      "2022-04-08 20:35:55.369958: I tensorflow/stream_executor/platform/default/dso_loader.cc:49] Successfully opened dynamic library libcudart.so.10.1\n"
     ]
    }
   ],
   "source": [
    "import pandas as pd\n",
    "from data_loader import load_data\n",
    "from selection import select_genes\n",
    "from selection.utils import subset_adata\n",
    "from other_steps import cluster_cells, classify_cells\n",
    "from experiments.metrics import clustering_metrics, classification_metrics"
   ]
  },
  {
   "cell_type": "markdown",
   "metadata": {
    "tags": []
   },
   "source": [
    "## Load and preprocess the dataset\n",
    "Before you load datasets, you need to specify the path to data and marker gene files in `config/datasets_config.py` :\n",
    "```python\n",
    "class DatasetConfig:\n",
    "    def __init__(self):\n",
    "        self.data_path = \"/your/path/to/datasets/\"\n",
    "        self.marker_path = \"/your/path/to/marker/genes/\"\n",
    "```"
   ]
  },
  {
   "cell_type": "markdown",
   "metadata": {},
   "source": [
    "Here, we used PBMC3k dataset as an example:"
   ]
  },
  {
   "cell_type": "code",
   "execution_count": 2,
   "metadata": {},
   "outputs": [
    {
     "name": "stdout",
     "output_type": "stream",
     "text": [
      "******************************** Loading original PBMCsmall dataset ********************************\n"
     ]
    },
    {
     "name": "stderr",
     "output_type": "stream",
     "text": [
      "Trying to set attribute `.var` of view, copying.\n"
     ]
    },
    {
     "name": "stdout",
     "output_type": "stream",
     "text": [
      "Dataset PBMCsmall has 2503 cells, 13714 genes and 8 classes after filtering.\n",
      "Rare cell type (> 30 cells and < 5.0% of all cells): Monocyte_FCGR3A\n",
      "Data complexity is 0.89.\n"
     ]
    }
   ],
   "source": [
    "adata = load_data(\"PBMCsmall\")"
   ]
  },
  {
   "cell_type": "markdown",
   "metadata": {},
   "source": [
    "For the first time the dataset was loaded, it was cached and can be directly loaded into memory next time. All available names of datasets:"
   ]
  },
  {
   "cell_type": "markdown",
   "metadata": {},
   "source": [
    "|        |        |        |            |\n",
    "| :----: | :----: | :----: | :----:     |\n",
    "|BaronHuman|Segerstolpe|Zilionis|Marques|\n",
    "|Darmanis|Guo|QuakeHeart|Zeisel|\n",
    "| BaronMouse  | LaMannoStem  |LaMannoMidbrain|PBMCbatchone|\n",
    "| QuakeSpleen|QuakeTongue | Alles| PBMCbatchtwo|\n",
    "| Ariss| ToschesLizard| PBMCsmall|Aztekin|\n",
    "|MouseAtlas|MouseHSP|MouseRetina|"
   ]
  },
  {
   "cell_type": "markdown",
   "metadata": {},
   "source": [
    "## Feature selection"
   ]
  },
  {
   "cell_type": "code",
   "execution_count": 3,
   "metadata": {},
   "outputs": [
    {
     "name": "stdout",
     "output_type": "stream",
     "text": [
      "2000 Genes have been saved to cache/geneData/all/PBMCsmall/feast/\n"
     ]
    }
   ],
   "source": [
    "selected_adata = select_genes(adata, method='feast', n_selected_genes=2000)"
   ]
  },
  {
   "cell_type": "code",
   "execution_count": 4,
   "metadata": {},
   "outputs": [
    {
     "data": {
      "text/plain": [
       "AnnData object with n_obs × n_vars = 2503 × 2000\n",
       "    obs: 'celltype', 'n_counts', 'n_genes', 'percent_mito', 'counts_per_cell'\n",
       "    var: 'n_cells', 'mean', 'std'\n",
       "    uns: 'log1p', 'rare_type', 'data_name', 'data_complexity'\n",
       "    layers: 'normalized'"
      ]
     },
     "execution_count": 4,
     "metadata": {},
     "output_type": "execute_result"
    }
   ],
   "source": [
    "selected_adata"
   ]
  },
  {
   "cell_type": "markdown",
   "metadata": {},
   "source": [
    "You can replace this function with new feature selection methods. Just pay attention to the input and output of your functions:\n",
    "- ***input***: the `anndata` object generated from the function `load_data()` as shown above, in whcih the `anndata.X` is the log-normalized data, \n",
    "    the `anndata.raw` is the  data after quality control but before normalization, and the normalized data is in `adata.layers['normalized']`.\n",
    "- ***output***: an `anndata` object, only containing the selected genes both in `anndata.X` and `anndata.raw`."
   ]
  },
  {
   "cell_type": "markdown",
   "metadata": {},
   "source": [
    "## Cell clustering\n",
    "In `config/experiments_config.py`, you can specify:\n",
    "- clustering methods and how many times it needs to run\n",
    "- evaluation metrics\n",
    "\n",
    "```python\n",
    "class CellClusteringConfig(BasicExperimentConfig):\n",
    "    def __init__(self):\n",
    "        super(CellClusteringConfig, self).__init__()\n",
    "        self.methods = {'SC3s': 1, 'Seurat_v4': 1}  # clustering_method: number of runs\n",
    "        self.metrics = ['ARI', 'V', 'bcubed']\n",
    "```\n",
    "other available clustering methods: 'SHARP' and 'SC3'."
   ]
  },
  {
   "cell_type": "code",
   "execution_count": 8,
   "metadata": {},
   "outputs": [
    {
     "name": "stdout",
     "output_type": "stream",
     "text": [
      "SC3s clustering starts. 2503 cells and 2000 genes in data...\n",
      "**************************** SC3s - 1 ***************************\n",
      "Seurat_v4 clustering starts. 2503 cells and 2000 genes in data...\n",
      "************************* Seurat_v4 - 1 *************************\n"
     ]
    }
   ],
   "source": [
    "cluster_cells(selected_adata)"
   ]
  },
  {
   "cell_type": "markdown",
   "metadata": {},
   "source": [
    "The generated cluster labels in each run were stored in selected_adata.obs, the name of which have the format\n",
    " `{clustering_method}_{run}`:"
   ]
  },
  {
   "cell_type": "code",
   "execution_count": 9,
   "metadata": {},
   "outputs": [
    {
     "data": {
      "text/html": [
       "<div>\n",
       "<style scoped>\n",
       "    .dataframe tbody tr th:only-of-type {\n",
       "        vertical-align: middle;\n",
       "    }\n",
       "\n",
       "    .dataframe tbody tr th {\n",
       "        vertical-align: top;\n",
       "    }\n",
       "\n",
       "    .dataframe thead th {\n",
       "        text-align: right;\n",
       "    }\n",
       "</style>\n",
       "<table border=\"1\" class=\"dataframe\">\n",
       "  <thead>\n",
       "    <tr style=\"text-align: right;\">\n",
       "      <th></th>\n",
       "      <th>celltype</th>\n",
       "      <th>n_counts</th>\n",
       "      <th>n_genes</th>\n",
       "      <th>percent_mito</th>\n",
       "      <th>counts_per_cell</th>\n",
       "      <th>SC3s_1</th>\n",
       "      <th>Seurat_v4_1</th>\n",
       "    </tr>\n",
       "  </thead>\n",
       "  <tbody>\n",
       "    <tr>\n",
       "      <th>AAACATACAACCAC</th>\n",
       "      <td>CD4.T.cell</td>\n",
       "      <td>2419.0</td>\n",
       "      <td>779</td>\n",
       "      <td>0.0</td>\n",
       "      <td>2419.0</td>\n",
       "      <td>0</td>\n",
       "      <td>1</td>\n",
       "    </tr>\n",
       "    <tr>\n",
       "      <th>AAACATTGATCAGC</th>\n",
       "      <td>CD4.T.cell</td>\n",
       "      <td>3147.0</td>\n",
       "      <td>1129</td>\n",
       "      <td>0.0</td>\n",
       "      <td>3147.0</td>\n",
       "      <td>0</td>\n",
       "      <td>1</td>\n",
       "    </tr>\n",
       "    <tr>\n",
       "      <th>AAACCGTGCTTCCG</th>\n",
       "      <td>Monocyte_CD14</td>\n",
       "      <td>2639.0</td>\n",
       "      <td>960</td>\n",
       "      <td>0.0</td>\n",
       "      <td>2639.0</td>\n",
       "      <td>7</td>\n",
       "      <td>7</td>\n",
       "    </tr>\n",
       "    <tr>\n",
       "      <th>AAACCGTGTATGCG</th>\n",
       "      <td>NK.cell</td>\n",
       "      <td>980.0</td>\n",
       "      <td>521</td>\n",
       "      <td>0.0</td>\n",
       "      <td>980.0</td>\n",
       "      <td>5</td>\n",
       "      <td>6</td>\n",
       "    </tr>\n",
       "    <tr>\n",
       "      <th>AAACGCACTGGTAC</th>\n",
       "      <td>CD4.T.cell</td>\n",
       "      <td>2163.0</td>\n",
       "      <td>781</td>\n",
       "      <td>0.0</td>\n",
       "      <td>2163.0</td>\n",
       "      <td>0</td>\n",
       "      <td>1</td>\n",
       "    </tr>\n",
       "    <tr>\n",
       "      <th>...</th>\n",
       "      <td>...</td>\n",
       "      <td>...</td>\n",
       "      <td>...</td>\n",
       "      <td>...</td>\n",
       "      <td>...</td>\n",
       "      <td>...</td>\n",
       "      <td>...</td>\n",
       "    </tr>\n",
       "    <tr>\n",
       "      <th>TTTCGAACTCTCAT</th>\n",
       "      <td>Monocyte_CD14</td>\n",
       "      <td>3459.0</td>\n",
       "      <td>1153</td>\n",
       "      <td>0.0</td>\n",
       "      <td>3459.0</td>\n",
       "      <td>7</td>\n",
       "      <td>3</td>\n",
       "    </tr>\n",
       "    <tr>\n",
       "      <th>TTTCTACTGAGGCA</th>\n",
       "      <td>B.cell</td>\n",
       "      <td>3443.0</td>\n",
       "      <td>1224</td>\n",
       "      <td>0.0</td>\n",
       "      <td>3443.0</td>\n",
       "      <td>1</td>\n",
       "      <td>4</td>\n",
       "    </tr>\n",
       "    <tr>\n",
       "      <th>TTTCTACTTCCTCG</th>\n",
       "      <td>B.cell</td>\n",
       "      <td>1684.0</td>\n",
       "      <td>622</td>\n",
       "      <td>0.0</td>\n",
       "      <td>1684.0</td>\n",
       "      <td>1</td>\n",
       "      <td>4</td>\n",
       "    </tr>\n",
       "    <tr>\n",
       "      <th>TTTGCATGAGAGGC</th>\n",
       "      <td>B.cell</td>\n",
       "      <td>1022.0</td>\n",
       "      <td>452</td>\n",
       "      <td>0.0</td>\n",
       "      <td>1022.0</td>\n",
       "      <td>1</td>\n",
       "      <td>4</td>\n",
       "    </tr>\n",
       "    <tr>\n",
       "      <th>TTTGCATGCCTCAC</th>\n",
       "      <td>CD4.T.cell</td>\n",
       "      <td>1984.0</td>\n",
       "      <td>723</td>\n",
       "      <td>0.0</td>\n",
       "      <td>1984.0</td>\n",
       "      <td>3</td>\n",
       "      <td>1</td>\n",
       "    </tr>\n",
       "  </tbody>\n",
       "</table>\n",
       "<p>2503 rows × 7 columns</p>\n",
       "</div>"
      ],
      "text/plain": [
       "                     celltype  n_counts  n_genes  percent_mito  \\\n",
       "AAACATACAACCAC     CD4.T.cell    2419.0      779           0.0   \n",
       "AAACATTGATCAGC     CD4.T.cell    3147.0     1129           0.0   \n",
       "AAACCGTGCTTCCG  Monocyte_CD14    2639.0      960           0.0   \n",
       "AAACCGTGTATGCG        NK.cell     980.0      521           0.0   \n",
       "AAACGCACTGGTAC     CD4.T.cell    2163.0      781           0.0   \n",
       "...                       ...       ...      ...           ...   \n",
       "TTTCGAACTCTCAT  Monocyte_CD14    3459.0     1153           0.0   \n",
       "TTTCTACTGAGGCA         B.cell    3443.0     1224           0.0   \n",
       "TTTCTACTTCCTCG         B.cell    1684.0      622           0.0   \n",
       "TTTGCATGAGAGGC         B.cell    1022.0      452           0.0   \n",
       "TTTGCATGCCTCAC     CD4.T.cell    1984.0      723           0.0   \n",
       "\n",
       "                counts_per_cell  SC3s_1  Seurat_v4_1  \n",
       "AAACATACAACCAC           2419.0       0            1  \n",
       "AAACATTGATCAGC           3147.0       0            1  \n",
       "AAACCGTGCTTCCG           2639.0       7            7  \n",
       "AAACCGTGTATGCG            980.0       5            6  \n",
       "AAACGCACTGGTAC           2163.0       0            1  \n",
       "...                         ...     ...          ...  \n",
       "TTTCGAACTCTCAT           3459.0       7            3  \n",
       "TTTCTACTGAGGCA           3443.0       1            4  \n",
       "TTTCTACTTCCTCG           1684.0       1            4  \n",
       "TTTGCATGAGAGGC           1022.0       1            4  \n",
       "TTTGCATGCCTCAC           1984.0       3            1  \n",
       "\n",
       "[2503 rows x 7 columns]"
      ]
     },
     "execution_count": 9,
     "metadata": {},
     "output_type": "execute_result"
    }
   ],
   "source": [
    "selected_adata.obs"
   ]
  },
  {
   "cell_type": "markdown",
   "metadata": {},
   "source": [
    "After cell clustering we evaluated the clustering results:"
   ]
  },
  {
   "cell_type": "code",
   "execution_count": 10,
   "metadata": {},
   "outputs": [],
   "source": [
    "results = clustering_metrics(selected_adata)"
   ]
  },
  {
   "cell_type": "code",
   "execution_count": 11,
   "metadata": {},
   "outputs": [
    {
     "data": {
      "text/plain": [
       "{'SC3s': {'ARI_1': 0.600343060674016,\n",
       "  'V_1': 0.7921364827506133,\n",
       "  'bcubed_1': 0.9442864759196732},\n",
       " 'Seurat_v4': {'ARI_1': 0.5782460625874656,\n",
       "  'V_1': 0.7680852769186622,\n",
       "  'bcubed_1': 0.9816576669238022}}"
      ]
     },
     "execution_count": 11,
     "metadata": {},
     "output_type": "execute_result"
    }
   ],
   "source": [
    "results"
   ]
  },
  {
   "cell_type": "code",
   "execution_count": 12,
   "metadata": {},
   "outputs": [
    {
     "data": {
      "text/html": [
       "<div>\n",
       "<style scoped>\n",
       "    .dataframe tbody tr th:only-of-type {\n",
       "        vertical-align: middle;\n",
       "    }\n",
       "\n",
       "    .dataframe tbody tr th {\n",
       "        vertical-align: top;\n",
       "    }\n",
       "\n",
       "    .dataframe thead th {\n",
       "        text-align: right;\n",
       "    }\n",
       "</style>\n",
       "<table border=\"1\" class=\"dataframe\">\n",
       "  <thead>\n",
       "    <tr style=\"text-align: right;\">\n",
       "      <th></th>\n",
       "      <th>SC3s</th>\n",
       "      <th>Seurat_v4</th>\n",
       "    </tr>\n",
       "  </thead>\n",
       "  <tbody>\n",
       "    <tr>\n",
       "      <th>ARI_1</th>\n",
       "      <td>0.600343</td>\n",
       "      <td>0.578246</td>\n",
       "    </tr>\n",
       "    <tr>\n",
       "      <th>V_1</th>\n",
       "      <td>0.792136</td>\n",
       "      <td>0.768085</td>\n",
       "    </tr>\n",
       "    <tr>\n",
       "      <th>bcubed_1</th>\n",
       "      <td>0.944286</td>\n",
       "      <td>0.981658</td>\n",
       "    </tr>\n",
       "  </tbody>\n",
       "</table>\n",
       "</div>"
      ],
      "text/plain": [
       "              SC3s  Seurat_v4\n",
       "ARI_1     0.600343   0.578246\n",
       "V_1       0.792136   0.768085\n",
       "bcubed_1  0.944286   0.981658"
      ]
     },
     "execution_count": 12,
     "metadata": {},
     "output_type": "execute_result"
    }
   ],
   "source": [
    "pd.DataFrame(results)"
   ]
  },
  {
   "cell_type": "markdown",
   "metadata": {},
   "source": [
    "## Inter-dataset cell classification\n",
    "\n",
    "We used the same function `load_data()` to read 2 datasets: "
   ]
  },
  {
   "cell_type": "code",
   "execution_count": 2,
   "metadata": {},
   "outputs": [
    {
     "name": "stdout",
     "output_type": "stream",
     "text": [
      "****************************** Loading processed PBMCbatchone dataset ******************************\n",
      "Dataset PBMCbatchone has 7429 cells, 33694 genes and 9 classes after filtering.\n",
      "Rare cell type (> 30 cells and < 5.0% of all cells): Megakaryocyte\n",
      "Data complexity is 0.957.\n",
      "****************************** Loading processed PBMCbatchtwo dataset ******************************\n",
      "Dataset PBMCbatchtwo has 6987 cells, 33694 genes and 8 classes after filtering.\n",
      "Rare cell type (> 30 cells and < 5.0% of all cells): Megakaryocyte\n",
      "Data complexity is 0.95.\n"
     ]
    }
   ],
   "source": [
    "train_adata = load_data('PBMCbatchone')\n",
    "test_adata = load_data('PBMCbatchtwo')"
   ]
  },
  {
   "cell_type": "code",
   "execution_count": 3,
   "metadata": {},
   "outputs": [
    {
     "name": "stdout",
     "output_type": "stream",
     "text": [
      "2000 genes are selected by rf using previously saved genes and importances...\n"
     ]
    }
   ],
   "source": [
    "selected_train_adata = select_genes(train_adata, 'rf', 2000, select_by_batch=False)  # select genes on training set"
   ]
  },
  {
   "cell_type": "code",
   "execution_count": 4,
   "metadata": {},
   "outputs": [
    {
     "data": {
      "text/plain": [
       "AnnData object with n_obs × n_vars = 7429 × 2000\n",
       "    obs: 'celltype', 'n_counts', 'n_genes', 'percent_mito', 'counts_per_cell'\n",
       "    var: 'Gene', 'n_cells', 'mean', 'std'\n",
       "    uns: 'log1p', 'rare_type', 'data_name', 'data_complexity'\n",
       "    layers: 'normalized'"
      ]
     },
     "execution_count": 4,
     "metadata": {},
     "output_type": "execute_result"
    }
   ],
   "source": [
    "selected_train_adata"
   ]
  },
  {
   "cell_type": "code",
   "execution_count": 5,
   "metadata": {},
   "outputs": [],
   "source": [
    "selected_test_adata = subset_adata(test_adata, selected_train_adata.var_names)   # only preserve selected genes on test set"
   ]
  },
  {
   "cell_type": "code",
   "execution_count": 6,
   "metadata": {},
   "outputs": [
    {
     "data": {
      "text/plain": [
       "AnnData object with n_obs × n_vars = 6987 × 2000\n",
       "    obs: 'celltype', 'n_counts', 'n_genes', 'percent_mito', 'counts_per_cell'\n",
       "    var: 'Gene', 'n_cells', 'mean', 'std'\n",
       "    uns: 'log1p', 'rare_type', 'data_name', 'data_complexity'\n",
       "    layers: 'normalized'"
      ]
     },
     "execution_count": 6,
     "metadata": {},
     "output_type": "execute_result"
    }
   ],
   "source": [
    "selected_test_adata"
   ]
  },
  {
   "cell_type": "code",
   "execution_count": 7,
   "metadata": {},
   "outputs": [
    {
     "name": "stdout",
     "output_type": "stream",
     "text": [
      "SingleR starts. 7429 cells and 2000 genes in train data; 6987 cells and 2000 genes in test data...\n"
     ]
    }
   ],
   "source": [
    "classify_cells(selected_train_adata, selected_test_adata)   # do cell classification"
   ]
  },
  {
   "cell_type": "markdown",
   "metadata": {},
   "source": [
    "The generated prediction labels were stored in selected_test_adata.obs, the name of which have the format\n",
    " `{classification_method}_label`:"
   ]
  },
  {
   "cell_type": "code",
   "execution_count": 11,
   "metadata": {},
   "outputs": [
    {
     "data": {
      "text/html": [
       "<div>\n",
       "<style scoped>\n",
       "    .dataframe tbody tr th:only-of-type {\n",
       "        vertical-align: middle;\n",
       "    }\n",
       "\n",
       "    .dataframe tbody tr th {\n",
       "        vertical-align: top;\n",
       "    }\n",
       "\n",
       "    .dataframe thead th {\n",
       "        text-align: right;\n",
       "    }\n",
       "</style>\n",
       "<table border=\"1\" class=\"dataframe\">\n",
       "  <thead>\n",
       "    <tr style=\"text-align: right;\">\n",
       "      <th></th>\n",
       "      <th>celltype</th>\n",
       "      <th>n_counts</th>\n",
       "      <th>n_genes</th>\n",
       "      <th>percent_mito</th>\n",
       "      <th>counts_per_cell</th>\n",
       "      <th>SingleR_label</th>\n",
       "    </tr>\n",
       "    <tr>\n",
       "      <th>Cell</th>\n",
       "      <th></th>\n",
       "      <th></th>\n",
       "      <th></th>\n",
       "      <th></th>\n",
       "      <th></th>\n",
       "      <th></th>\n",
       "    </tr>\n",
       "  </thead>\n",
       "  <tbody>\n",
       "    <tr>\n",
       "      <th>data_5p-AAACCTGAGCGATAGC-1</th>\n",
       "      <td>NK.cell</td>\n",
       "      <td>2712.0</td>\n",
       "      <td>1318</td>\n",
       "      <td>0.0</td>\n",
       "      <td>2712.0</td>\n",
       "      <td>NK.cell</td>\n",
       "    </tr>\n",
       "    <tr>\n",
       "      <th>data_5p-AAACCTGAGCTAAACA-1</th>\n",
       "      <td>Monocyte_CD14</td>\n",
       "      <td>6561.0</td>\n",
       "      <td>2164</td>\n",
       "      <td>0.0</td>\n",
       "      <td>6561.0</td>\n",
       "      <td>Monocyte_CD14</td>\n",
       "    </tr>\n",
       "    <tr>\n",
       "      <th>data_5p-AAACCTGAGGGAGTAA-1</th>\n",
       "      <td>Monocyte_CD14</td>\n",
       "      <td>6322.0</td>\n",
       "      <td>2112</td>\n",
       "      <td>0.0</td>\n",
       "      <td>6322.0</td>\n",
       "      <td>Monocyte_CD14</td>\n",
       "    </tr>\n",
       "    <tr>\n",
       "      <th>data_5p-AAACCTGAGTCTTGCA-1</th>\n",
       "      <td>CD8.T.cell</td>\n",
       "      <td>4528.0</td>\n",
       "      <td>1526</td>\n",
       "      <td>0.0</td>\n",
       "      <td>4528.0</td>\n",
       "      <td>CD8.T.cell</td>\n",
       "    </tr>\n",
       "    <tr>\n",
       "      <th>data_5p-AAACCTGAGTTCGATC-1</th>\n",
       "      <td>Monocyte_CD14</td>\n",
       "      <td>3426.0</td>\n",
       "      <td>1332</td>\n",
       "      <td>0.0</td>\n",
       "      <td>3426.0</td>\n",
       "      <td>Monocyte_FCGR3A</td>\n",
       "    </tr>\n",
       "    <tr>\n",
       "      <th>...</th>\n",
       "      <td>...</td>\n",
       "      <td>...</td>\n",
       "      <td>...</td>\n",
       "      <td>...</td>\n",
       "      <td>...</td>\n",
       "      <td>...</td>\n",
       "    </tr>\n",
       "    <tr>\n",
       "      <th>data_5p-TTTGTCATCCACGTTC-1</th>\n",
       "      <td>Monocyte_CD14</td>\n",
       "      <td>6547.0</td>\n",
       "      <td>2044</td>\n",
       "      <td>0.0</td>\n",
       "      <td>6547.0</td>\n",
       "      <td>Monocyte_CD14</td>\n",
       "    </tr>\n",
       "    <tr>\n",
       "      <th>data_5p-TTTGTCATCGCGTAGC-1</th>\n",
       "      <td>B.cell</td>\n",
       "      <td>3615.0</td>\n",
       "      <td>1397</td>\n",
       "      <td>0.0</td>\n",
       "      <td>3615.0</td>\n",
       "      <td>B.cell</td>\n",
       "    </tr>\n",
       "    <tr>\n",
       "      <th>data_5p-TTTGTCATCTTAACCT-1</th>\n",
       "      <td>CD8.T.cell</td>\n",
       "      <td>3828.0</td>\n",
       "      <td>1480</td>\n",
       "      <td>0.0</td>\n",
       "      <td>3828.0</td>\n",
       "      <td>CD8.T.cell</td>\n",
       "    </tr>\n",
       "    <tr>\n",
       "      <th>data_5p-TTTGTCATCTTACCGC-1</th>\n",
       "      <td>Plasmacytoid.dendritic.cell</td>\n",
       "      <td>6444.0</td>\n",
       "      <td>2388</td>\n",
       "      <td>0.0</td>\n",
       "      <td>6444.0</td>\n",
       "      <td>Plasmacytoid.dendritic.cell</td>\n",
       "    </tr>\n",
       "    <tr>\n",
       "      <th>data_5p-TTTGTCATCTTGTTTG-1</th>\n",
       "      <td>CD8.T.cell</td>\n",
       "      <td>4457.0</td>\n",
       "      <td>1662</td>\n",
       "      <td>0.0</td>\n",
       "      <td>4457.0</td>\n",
       "      <td>CD4.T.cell</td>\n",
       "    </tr>\n",
       "  </tbody>\n",
       "</table>\n",
       "<p>6987 rows × 6 columns</p>\n",
       "</div>"
      ],
      "text/plain": [
       "                                               celltype  n_counts  n_genes  \\\n",
       "Cell                                                                         \n",
       "data_5p-AAACCTGAGCGATAGC-1                      NK.cell    2712.0     1318   \n",
       "data_5p-AAACCTGAGCTAAACA-1                Monocyte_CD14    6561.0     2164   \n",
       "data_5p-AAACCTGAGGGAGTAA-1                Monocyte_CD14    6322.0     2112   \n",
       "data_5p-AAACCTGAGTCTTGCA-1                   CD8.T.cell    4528.0     1526   \n",
       "data_5p-AAACCTGAGTTCGATC-1                Monocyte_CD14    3426.0     1332   \n",
       "...                                                 ...       ...      ...   \n",
       "data_5p-TTTGTCATCCACGTTC-1                Monocyte_CD14    6547.0     2044   \n",
       "data_5p-TTTGTCATCGCGTAGC-1                       B.cell    3615.0     1397   \n",
       "data_5p-TTTGTCATCTTAACCT-1                   CD8.T.cell    3828.0     1480   \n",
       "data_5p-TTTGTCATCTTACCGC-1  Plasmacytoid.dendritic.cell    6444.0     2388   \n",
       "data_5p-TTTGTCATCTTGTTTG-1                   CD8.T.cell    4457.0     1662   \n",
       "\n",
       "                            percent_mito  counts_per_cell  \\\n",
       "Cell                                                        \n",
       "data_5p-AAACCTGAGCGATAGC-1           0.0           2712.0   \n",
       "data_5p-AAACCTGAGCTAAACA-1           0.0           6561.0   \n",
       "data_5p-AAACCTGAGGGAGTAA-1           0.0           6322.0   \n",
       "data_5p-AAACCTGAGTCTTGCA-1           0.0           4528.0   \n",
       "data_5p-AAACCTGAGTTCGATC-1           0.0           3426.0   \n",
       "...                                  ...              ...   \n",
       "data_5p-TTTGTCATCCACGTTC-1           0.0           6547.0   \n",
       "data_5p-TTTGTCATCGCGTAGC-1           0.0           3615.0   \n",
       "data_5p-TTTGTCATCTTAACCT-1           0.0           3828.0   \n",
       "data_5p-TTTGTCATCTTACCGC-1           0.0           6444.0   \n",
       "data_5p-TTTGTCATCTTGTTTG-1           0.0           4457.0   \n",
       "\n",
       "                                          SingleR_label  \n",
       "Cell                                                     \n",
       "data_5p-AAACCTGAGCGATAGC-1                      NK.cell  \n",
       "data_5p-AAACCTGAGCTAAACA-1                Monocyte_CD14  \n",
       "data_5p-AAACCTGAGGGAGTAA-1                Monocyte_CD14  \n",
       "data_5p-AAACCTGAGTCTTGCA-1                   CD8.T.cell  \n",
       "data_5p-AAACCTGAGTTCGATC-1              Monocyte_FCGR3A  \n",
       "...                                                 ...  \n",
       "data_5p-TTTGTCATCCACGTTC-1                Monocyte_CD14  \n",
       "data_5p-TTTGTCATCGCGTAGC-1                       B.cell  \n",
       "data_5p-TTTGTCATCTTAACCT-1                   CD8.T.cell  \n",
       "data_5p-TTTGTCATCTTACCGC-1  Plasmacytoid.dendritic.cell  \n",
       "data_5p-TTTGTCATCTTGTTTG-1                   CD4.T.cell  \n",
       "\n",
       "[6987 rows x 6 columns]"
      ]
     },
     "execution_count": 11,
     "metadata": {},
     "output_type": "execute_result"
    }
   ],
   "source": [
    "selected_test_adata.obs"
   ]
  },
  {
   "cell_type": "markdown",
   "metadata": {},
   "source": [
    "In `config/experiments_config.py`, you can specify the evaluation metrics:\n",
    "\n",
    "```python\n",
    "class CellClassificationConfig(BasicExperimentConfig):\n",
    "    def __init__(self):\n",
    "        super(CellClassificationConfig, self).__init__()\n",
    "        self.methods = ['SingleR']\n",
    "        self.metrics = ['f1', 'ck'] # F1 score and cohen's kappa\n",
    "```"
   ]
  },
  {
   "cell_type": "code",
   "execution_count": 9,
   "metadata": {},
   "outputs": [],
   "source": [
    "results = classification_metrics(selected_test_adata)  # evaluate the results"
   ]
  },
  {
   "cell_type": "code",
   "execution_count": 10,
   "metadata": {},
   "outputs": [
    {
     "data": {
      "text/plain": [
       "{'SingleR': {'f1': 0.8136420027822318, 'ck': 0.8496280431910497}}"
      ]
     },
     "execution_count": 10,
     "metadata": {},
     "output_type": "execute_result"
    }
   ],
   "source": [
    "results"
   ]
  }
 ],
 "metadata": {
  "kernelspec": {
   "display_name": "bio",
   "language": "python",
   "name": "bio"
  },
  "language_info": {
   "codemirror_mode": {
    "name": "ipython",
    "version": 3
   },
   "file_extension": ".py",
   "mimetype": "text/x-python",
   "name": "python",
   "nbconvert_exporter": "python",
   "pygments_lexer": "ipython3",
   "version": "3.9.7"
  },
  "latex_envs": {
   "LaTeX_envs_menu_present": true,
   "autoclose": false,
   "autocomplete": true,
   "bibliofile": "biblio.bib",
   "cite_by": "apalike",
   "current_citInitial": 1,
   "eqLabelWithNumbers": true,
   "eqNumInitial": 1,
   "hotkeys": {
    "equation": "Ctrl-E",
    "itemize": "Ctrl-I"
   },
   "labels_anchors": false,
   "latex_user_defs": false,
   "report_style_numbering": false,
   "user_envs_cfg": false
  }
 },
 "nbformat": 4,
 "nbformat_minor": 4
}
